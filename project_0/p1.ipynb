{
 "cells": [
  {
   "cell_type": "markdown",
   "id": "0120c1d5",
   "metadata": {},
   "source": [
    "### Task1\n",
    "```\n",
    "\n",
    "     active environment : None\n",
    "       user config file : C:\\Users\\zhihengwang\\.condarc\n",
    " populated config files : C:\\ProgramData\\anaconda3\\.condarc\n",
    "          conda version : 25.5.1\n",
    "    conda-build version : 25.5.0\n",
    "         python version : 3.13.5.final.0\n",
    "                 solver : libmamba (default)\n",
    "       virtual packages : __archspec=1=x86_64_v4\n",
    "                          __conda=25.5.1=0\n",
    "                          __cuda=12.8=0\n",
    "                          __win=10.0.26100=0\n",
    "       base environment : C:\\ProgramData\\anaconda3  (read only)\n",
    "      conda av data dir : C:\\ProgramData\\anaconda3\\etc\\conda\n",
    "  conda av metadata url : None\n",
    "           channel URLs : https://repo.anaconda.com/pkgs/main/win-64\n",
    "                          https://repo.anaconda.com/pkgs/main/noarch\n",
    "                          https://repo.anaconda.com/pkgs/r/win-64\n",
    "                          https://repo.anaconda.com/pkgs/r/noarch\n",
    "                          https://repo.anaconda.com/pkgs/msys2/win-64\n",
    "                          https://repo.anaconda.com/pkgs/msys2/noarch\n",
    "          package cache : C:\\ProgramData\\anaconda3\\pkgs\n",
    "                          C:\\Users\\zhihengwang\\.conda\\pkgs\n",
    "                          C:\\Users\\zhihengwang\\AppData\\Local\\conda\\conda\\pkgs\n",
    "       envs directories : C:\\Users\\zhihengwang\\.conda\\envs\n",
    "                          C:\\ProgramData\\anaconda3\\envs\n",
    "                          C:\\Users\\zhihengwang\\AppData\\Local\\conda\\conda\\envs\n",
    "               platform : win-64\n",
    "             user-agent : conda/25.5.1 requests/2.32.3 CPython/3.13.5 Windows/11 Windows/10.0.26100 solver/libmamba conda-libmamba-solver/25.4.0 libmambapy/2.0.5 aau/0.7.1 c/. s/. \n",
    "          administrator : False\n",
    "             netrc file : None\n",
    "           offline mode : False\n",
    "\n",
    "```"
   ]
  },
  {
   "cell_type": "markdown",
   "id": "cceaf5ec",
   "metadata": {},
   "source": [
    "### Task2"
   ]
  },
  {
   "cell_type": "code",
   "execution_count": 107,
   "id": "ad1ac314",
   "metadata": {},
   "outputs": [],
   "source": [
    " import numpy as np\n",
    " import scipy.linalg"
   ]
  },
  {
   "cell_type": "markdown",
   "id": "e2369667",
   "metadata": {},
   "source": [
    "The following code could make notebook output results of every line in code cells."
   ]
  },
  {
   "cell_type": "code",
   "execution_count": 108,
   "id": "b0912933",
   "metadata": {},
   "outputs": [],
   "source": [
    "from IPython.core.interactiveshell import InteractiveShell\n",
    "InteractiveShell.ast_node_interactivity = \"all\""
   ]
  },
  {
   "cell_type": "code",
   "execution_count": 109,
   "id": "d6eb1388",
   "metadata": {},
   "outputs": [
    {
     "data": {
      "text/plain": [
       "array([[1, 7, 6, 4, 4],\n",
       "       [8, 1, 7, 2, 1],\n",
       "       [5, 9, 7, 7, 7],\n",
       "       [8, 5, 2, 8, 5],\n",
       "       [5, 4, 2, 9, 8]])"
      ]
     },
     "execution_count": 109,
     "metadata": {},
     "output_type": "execute_result"
    },
    {
     "data": {
      "text/plain": [
       "2"
      ]
     },
     "execution_count": 109,
     "metadata": {},
     "output_type": "execute_result"
    },
    {
     "data": {
      "text/plain": [
       "25"
      ]
     },
     "execution_count": 109,
     "metadata": {},
     "output_type": "execute_result"
    },
    {
     "data": {
      "text/plain": [
       "(5, 5)"
      ]
     },
     "execution_count": 109,
     "metadata": {},
     "output_type": "execute_result"
    },
    {
     "data": {
      "text/plain": [
       "5"
      ]
     },
     "execution_count": 109,
     "metadata": {},
     "output_type": "execute_result"
    },
    {
     "data": {
      "text/plain": [
       "array([[1., 2., 3.],\n",
       "       [4., 5., 6.]])"
      ]
     },
     "execution_count": 109,
     "metadata": {},
     "output_type": "execute_result"
    },
    {
     "data": {
      "text/plain": [
       "array([[1, 7, 6, 4, 4, 6, 4, 8, 5, 4],\n",
       "       [8, 1, 7, 2, 1, 5, 3, 1, 5, 8],\n",
       "       [5, 9, 7, 7, 7, 1, 8, 8, 3, 6],\n",
       "       [8, 5, 2, 8, 5, 2, 7, 7, 4, 1],\n",
       "       [5, 4, 2, 9, 8, 9, 5, 9, 7, 8],\n",
       "       [7, 2, 4, 5, 5, 5, 3, 3, 6, 7],\n",
       "       [1, 5, 2, 7, 7, 9, 4, 2, 8, 6],\n",
       "       [9, 7, 4, 9, 4, 7, 1, 3, 7, 8],\n",
       "       [3, 9, 4, 1, 5, 4, 8, 8, 4, 9],\n",
       "       [8, 2, 5, 2, 7, 3, 3, 7, 6, 2]])"
      ]
     },
     "execution_count": 109,
     "metadata": {},
     "output_type": "execute_result"
    }
   ],
   "source": [
    "from numpy.random import default_rng\n",
    "rng = default_rng(seed=42)\n",
    "a = rng.integers(low=1, high=10, size=(5, 5))\n",
    "a\n",
    "b = rng.integers(low=1, high=10, size=(5, 5))\n",
    "c = rng.integers(low=1, high=10, size=(5, 5))\n",
    "d = rng.integers(low=1, high=10, size=(5, 5))\n",
    "n = 2\n",
    "np.ndim(a)\n",
    "np.size(a)\n",
    "np.shape(a)\n",
    "a.shape[n-1]\n",
    "np.array([[1., 2., 3.], [4., 5., 6.]])\n",
    "np.block([[a, b], [c, d]])"
   ]
  },
  {
   "cell_type": "code",
   "execution_count": 110,
   "id": "91007b62",
   "metadata": {},
   "outputs": [
    {
     "data": {
      "text/plain": [
       "array([[8, 2, 8, 1, 8, 8, 8, 6, 5, 7],\n",
       "       [3, 8, 6, 5, 5, 6, 1, 2, 3, 2],\n",
       "       [4, 7, 6, 5, 8, 6, 1, 7, 6, 6],\n",
       "       [6, 5, 1, 6, 8, 3, 6, 1, 4, 4],\n",
       "       [9, 2, 3, 4, 9, 8, 1, 3, 8, 1],\n",
       "       [8, 3, 9, 3, 4, 6, 2, 6, 5, 8],\n",
       "       [9, 6, 4, 4, 4, 8, 3, 2, 4, 1],\n",
       "       [1, 1, 7, 7, 7, 5, 7, 2, 9, 5],\n",
       "       [9, 2, 5, 7, 5, 5, 2, 4, 3, 3],\n",
       "       [7, 6, 6, 4, 9, 1, 4, 2, 4, 9]])"
      ]
     },
     "execution_count": 110,
     "metadata": {},
     "output_type": "execute_result"
    },
    {
     "data": {
      "text/plain": [
       "array([7, 6, 6, 4, 9, 1, 4, 2, 4, 9])"
      ]
     },
     "execution_count": 110,
     "metadata": {},
     "output_type": "execute_result"
    },
    {
     "data": {
      "text/plain": [
       "np.int64(5)"
      ]
     },
     "execution_count": 110,
     "metadata": {},
     "output_type": "execute_result"
    },
    {
     "data": {
      "text/plain": [
       "array([3, 8, 6, 5, 5, 6, 1, 2, 3, 2])"
      ]
     },
     "execution_count": 110,
     "metadata": {},
     "output_type": "execute_result"
    },
    {
     "data": {
      "text/plain": [
       "array([[8, 2, 8, 1, 8, 8, 8, 6, 5, 7],\n",
       "       [3, 8, 6, 5, 5, 6, 1, 2, 3, 2],\n",
       "       [4, 7, 6, 5, 8, 6, 1, 7, 6, 6],\n",
       "       [6, 5, 1, 6, 8, 3, 6, 1, 4, 4],\n",
       "       [9, 2, 3, 4, 9, 8, 1, 3, 8, 1]])"
      ]
     },
     "execution_count": 110,
     "metadata": {},
     "output_type": "execute_result"
    },
    {
     "data": {
      "text/plain": [
       "array([[8, 3, 9, 3, 4, 6, 2, 6, 5, 8],\n",
       "       [9, 6, 4, 4, 4, 8, 3, 2, 4, 1],\n",
       "       [1, 1, 7, 7, 7, 5, 7, 2, 9, 5],\n",
       "       [9, 2, 5, 7, 5, 5, 2, 4, 3, 3],\n",
       "       [7, 6, 6, 4, 9, 1, 4, 2, 4, 9]])"
      ]
     },
     "execution_count": 110,
     "metadata": {},
     "output_type": "execute_result"
    },
    {
     "data": {
      "text/plain": [
       "array([[8, 8, 8, 6, 5],\n",
       "       [5, 6, 1, 2, 3],\n",
       "       [8, 6, 1, 7, 6]])"
      ]
     },
     "execution_count": 110,
     "metadata": {},
     "output_type": "execute_result"
    },
    {
     "data": {
      "text/plain": [
       "array([[3, 6],\n",
       "       [6, 1],\n",
       "       [9, 3]])"
      ]
     },
     "execution_count": 110,
     "metadata": {},
     "output_type": "execute_result"
    }
   ],
   "source": [
    "a = rng.integers(low=1, high=10, size=(10, 10))\n",
    "a\n",
    "\n",
    "a[-1]\n",
    "a[1, 4]\n",
    "a[1]\n",
    "a[0:5]\n",
    "a[-5:]\n",
    "a[0:3, 4:9]\n",
    "a[np.ix_([1, 3, 4], [0, 2])]"
   ]
  },
  {
   "cell_type": "code",
   "execution_count": 111,
   "id": "7722ca6a",
   "metadata": {},
   "outputs": [
    {
     "data": {
      "text/plain": [
       "array([[4, 9, 5, 7],\n",
       "       [5, 3, 7, 9],\n",
       "       [3, 8, 3, 7],\n",
       "       [8, 5, 7, 3],\n",
       "       [1, 1, 5, 9],\n",
       "       [2, 5, 7, 2],\n",
       "       [7, 3, 8, 6],\n",
       "       [5, 2, 5, 8],\n",
       "       [1, 7, 5, 7],\n",
       "       [6, 4, 3, 6],\n",
       "       [2, 6, 1, 6],\n",
       "       [6, 1, 7, 4],\n",
       "       [8, 1, 2, 5],\n",
       "       [2, 3, 6, 2],\n",
       "       [7, 1, 2, 6],\n",
       "       [8, 2, 3, 9],\n",
       "       [9, 6, 5, 4],\n",
       "       [6, 6, 3, 1],\n",
       "       [2, 9, 4, 5],\n",
       "       [5, 8, 1, 1],\n",
       "       [3, 5, 7, 5],\n",
       "       [4, 9, 2, 6],\n",
       "       [5, 5, 8, 3],\n",
       "       [9, 3, 5, 5],\n",
       "       [8, 4, 3, 1]])"
      ]
     },
     "execution_count": 111,
     "metadata": {},
     "output_type": "execute_result"
    },
    {
     "data": {
      "text/plain": [
       "array([[3, 8, 3, 7],\n",
       "       [1, 1, 5, 9],\n",
       "       [7, 3, 8, 6],\n",
       "       [1, 7, 5, 7],\n",
       "       [2, 6, 1, 6],\n",
       "       [8, 1, 2, 5],\n",
       "       [7, 1, 2, 6],\n",
       "       [9, 6, 5, 4],\n",
       "       [2, 9, 4, 5],\n",
       "       [3, 5, 7, 5]])"
      ]
     },
     "execution_count": 111,
     "metadata": {},
     "output_type": "execute_result"
    },
    {
     "data": {
      "text/plain": [
       "array([[4, 9, 5, 7],\n",
       "       [3, 8, 3, 7],\n",
       "       [1, 1, 5, 9],\n",
       "       [7, 3, 8, 6],\n",
       "       [1, 7, 5, 7],\n",
       "       [2, 6, 1, 6],\n",
       "       [8, 1, 2, 5],\n",
       "       [7, 1, 2, 6],\n",
       "       [9, 6, 5, 4],\n",
       "       [2, 9, 4, 5],\n",
       "       [3, 5, 7, 5],\n",
       "       [5, 5, 8, 3],\n",
       "       [8, 4, 3, 1]])"
      ]
     },
     "execution_count": 111,
     "metadata": {},
     "output_type": "execute_result"
    },
    {
     "data": {
      "text/plain": [
       "array([[8, 4, 3, 1],\n",
       "       [9, 3, 5, 5],\n",
       "       [5, 5, 8, 3],\n",
       "       [4, 9, 2, 6],\n",
       "       [3, 5, 7, 5],\n",
       "       [5, 8, 1, 1],\n",
       "       [2, 9, 4, 5],\n",
       "       [6, 6, 3, 1],\n",
       "       [9, 6, 5, 4],\n",
       "       [8, 2, 3, 9],\n",
       "       [7, 1, 2, 6],\n",
       "       [2, 3, 6, 2],\n",
       "       [8, 1, 2, 5],\n",
       "       [6, 1, 7, 4],\n",
       "       [2, 6, 1, 6],\n",
       "       [6, 4, 3, 6],\n",
       "       [1, 7, 5, 7],\n",
       "       [5, 2, 5, 8],\n",
       "       [7, 3, 8, 6],\n",
       "       [2, 5, 7, 2],\n",
       "       [1, 1, 5, 9],\n",
       "       [8, 5, 7, 3],\n",
       "       [3, 8, 3, 7],\n",
       "       [5, 3, 7, 9],\n",
       "       [4, 9, 5, 7]])"
      ]
     },
     "execution_count": 111,
     "metadata": {},
     "output_type": "execute_result"
    },
    {
     "data": {
      "text/plain": [
       "array([[4, 9, 5, 7],\n",
       "       [5, 3, 7, 9],\n",
       "       [3, 8, 3, 7],\n",
       "       [8, 5, 7, 3],\n",
       "       [1, 1, 5, 9],\n",
       "       [2, 5, 7, 2],\n",
       "       [7, 3, 8, 6],\n",
       "       [5, 2, 5, 8],\n",
       "       [1, 7, 5, 7],\n",
       "       [6, 4, 3, 6],\n",
       "       [2, 6, 1, 6],\n",
       "       [6, 1, 7, 4],\n",
       "       [8, 1, 2, 5],\n",
       "       [2, 3, 6, 2],\n",
       "       [7, 1, 2, 6],\n",
       "       [8, 2, 3, 9],\n",
       "       [9, 6, 5, 4],\n",
       "       [6, 6, 3, 1],\n",
       "       [2, 9, 4, 5],\n",
       "       [5, 8, 1, 1],\n",
       "       [3, 5, 7, 5],\n",
       "       [4, 9, 2, 6],\n",
       "       [5, 5, 8, 3],\n",
       "       [9, 3, 5, 5],\n",
       "       [8, 4, 3, 1],\n",
       "       [4, 9, 5, 7]])"
      ]
     },
     "execution_count": 111,
     "metadata": {},
     "output_type": "execute_result"
    }
   ],
   "source": [
    "a = rng.integers(low=1, high=10, size=(25, 4))\n",
    "a\n",
    "\n",
    "a[2:21:2,:]\n",
    "a[::2, :]\n",
    "a[::-1,:]\n",
    "a[np.r_[:len(a),0]]"
   ]
  },
  {
   "cell_type": "code",
   "execution_count": 112,
   "id": "6a294ef1",
   "metadata": {},
   "outputs": [
    {
     "data": {
      "text/plain": [
       "array([[4, 8, 1, 9, 5, 2, 3, 5],\n",
       "       [3, 1, 6, 7, 2, 3, 3, 6],\n",
       "       [7, 7, 9, 7, 3, 1, 6, 9],\n",
       "       [9, 3, 3, 1, 2, 5, 5, 4],\n",
       "       [3, 8, 5, 8, 9, 3, 2, 9]])"
      ]
     },
     "execution_count": 112,
     "metadata": {},
     "output_type": "execute_result"
    },
    {
     "data": {
      "text/plain": [
       "array([[4, 3, 7, 9, 3],\n",
       "       [8, 1, 7, 3, 8],\n",
       "       [1, 6, 9, 3, 5],\n",
       "       [9, 7, 7, 1, 8],\n",
       "       [5, 2, 3, 2, 9],\n",
       "       [2, 3, 1, 5, 3],\n",
       "       [3, 3, 6, 5, 2],\n",
       "       [5, 6, 9, 4, 9]])"
      ]
     },
     "execution_count": 112,
     "metadata": {},
     "output_type": "execute_result"
    },
    {
     "data": {
      "text/plain": [
       "array([[4, 3, 7, 9, 3],\n",
       "       [8, 1, 7, 3, 8],\n",
       "       [1, 6, 9, 3, 5],\n",
       "       [9, 7, 7, 1, 8],\n",
       "       [5, 2, 3, 2, 9],\n",
       "       [2, 3, 1, 5, 3],\n",
       "       [3, 3, 6, 5, 2],\n",
       "       [5, 6, 9, 4, 9]])"
      ]
     },
     "execution_count": 112,
     "metadata": {},
     "output_type": "execute_result"
    }
   ],
   "source": [
    "a = rng.integers(low=1, high=10, size=(5, 8))\n",
    "a\n",
    "\n",
    "a.T\n",
    "a.conj().T\n"
   ]
  },
  {
   "cell_type": "code",
   "execution_count": 113,
   "id": "48856c4c",
   "metadata": {},
   "outputs": [
    {
     "data": {
      "text/plain": [
       "array([[6, 3, 6],\n",
       "       [5, 9, 3],\n",
       "       [9, 9, 2],\n",
       "       [2, 5, 1],\n",
       "       [3, 4, 9],\n",
       "       [9, 2, 9],\n",
       "       [1, 7, 8],\n",
       "       [9, 3, 9]])"
      ]
     },
     "execution_count": 113,
     "metadata": {},
     "output_type": "execute_result"
    },
    {
     "data": {
      "text/plain": [
       "array([[172, 198, 191],\n",
       "       [181, 160, 163],\n",
       "       [277, 283, 253],\n",
       "       [190, 151, 209],\n",
       "       [256, 249, 265]])"
      ]
     },
     "execution_count": 113,
     "metadata": {},
     "output_type": "execute_result"
    }
   ],
   "source": [
    "\n",
    "b= rng.integers(low=1, high=10, size=(8, 3))\n",
    "b\n",
    "a @ b\n"
   ]
  },
  {
   "cell_type": "code",
   "execution_count": 114,
   "id": "da44db1f",
   "metadata": {},
   "outputs": [
    {
     "data": {
      "text/plain": [
       "array([[2, 5, 5, 3, 1, 7, 4, 6],\n",
       "       [4, 4, 8, 1, 7, 7, 4, 3],\n",
       "       [1, 9, 9, 3, 1, 2, 1, 8],\n",
       "       [9, 2, 7, 2, 4, 6, 7, 8],\n",
       "       [1, 2, 3, 3, 9, 7, 3, 9]])"
      ]
     },
     "execution_count": 114,
     "metadata": {},
     "output_type": "execute_result"
    },
    {
     "data": {
      "text/plain": [
       "array([[ 8, 40,  5, 27,  5, 14, 12, 30],\n",
       "       [12,  4, 48,  7, 14, 21, 12, 18],\n",
       "       [ 7, 63, 81, 21,  3,  2,  6, 72],\n",
       "       [81,  6, 21,  2,  8, 30, 35, 32],\n",
       "       [ 3, 16, 15, 24, 81, 21,  6, 81]])"
      ]
     },
     "execution_count": 114,
     "metadata": {},
     "output_type": "execute_result"
    },
    {
     "data": {
      "text/plain": [
       "array([[2.        , 1.6       , 0.2       , 3.        , 5.        ,\n",
       "        0.28571429, 0.75      , 0.83333333],\n",
       "       [0.75      , 0.25      , 0.75      , 7.        , 0.28571429,\n",
       "        0.42857143, 0.75      , 2.        ],\n",
       "       [7.        , 0.77777778, 1.        , 2.33333333, 3.        ,\n",
       "        0.5       , 6.        , 1.125     ],\n",
       "       [1.        , 1.5       , 0.42857143, 0.5       , 0.5       ,\n",
       "        0.83333333, 0.71428571, 0.5       ],\n",
       "       [3.        , 4.        , 1.66666667, 2.66666667, 1.        ,\n",
       "        0.42857143, 0.66666667, 1.        ]])"
      ]
     },
     "execution_count": 114,
     "metadata": {},
     "output_type": "execute_result"
    }
   ],
   "source": [
    "b= rng.integers(low=1, high=10, size=(5, 8))\n",
    "b\n",
    "a * b\n",
    "a/b"
   ]
  },
  {
   "cell_type": "code",
   "execution_count": 115,
   "id": "0a48859a",
   "metadata": {},
   "outputs": [
    {
     "data": {
      "text/plain": [
       "array([[1.25556714e-01, 2.97961238e-03, 2.70670740e-06, 1.21124936e-02,\n",
       "        2.29068748e-03, 3.11195282e-01, 1.80837926e-03, 1.29807804e-01],\n",
       "       [3.34634723e-01, 1.96241053e-01, 7.97310839e-03, 5.19959989e-01,\n",
       "        3.66150635e-01, 4.03557212e-01, 2.25106553e-03, 1.89528999e-03],\n",
       "       [7.98049112e-01, 6.28445570e-02, 2.72569576e-02, 1.16632032e-01,\n",
       "        2.91255220e-01, 8.72690266e-01, 2.35033257e-02, 7.90961489e-01],\n",
       "       [1.53630243e-05, 1.71136946e-01, 2.54810093e-01, 1.18756103e-03,\n",
       "        2.76401678e-03, 7.36202855e-02, 9.02078082e-01, 2.11754086e-01],\n",
       "       [8.12226881e-01, 5.20418683e-01, 1.02097436e-01, 4.83299451e-01,\n",
       "        5.67478821e-06, 1.30016826e-03, 5.70606931e-01, 5.05913092e-01]])"
      ]
     },
     "execution_count": 115,
     "metadata": {},
     "output_type": "execute_result"
    },
    {
     "data": {
      "text/plain": [
       "array([[ True, False, False, False, False,  True, False,  True],\n",
       "       [ True,  True, False,  True,  True,  True, False, False],\n",
       "       [ True, False, False, False,  True,  True, False,  True],\n",
       "       [False,  True,  True, False, False, False,  True,  True],\n",
       "       [ True,  True, False,  True, False, False,  True,  True]])"
      ]
     },
     "execution_count": 115,
     "metadata": {},
     "output_type": "execute_result"
    },
    {
     "data": {
      "text/plain": [
       "(array([0, 0, 0, 1, 1, 1, 1, 1, 2, 2, 2, 2, 3, 3, 3, 3, 4, 4, 4, 4, 4]),\n",
       " array([0, 5, 7, 0, 1, 3, 4, 5, 0, 4, 5, 7, 1, 2, 6, 7, 0, 1, 3, 6, 7]))"
      ]
     },
     "execution_count": 115,
     "metadata": {},
     "output_type": "execute_result"
    },
    {
     "data": {
      "text/plain": [
       "array([0.23264074, 0.53076959, 0.60601582, 0.86773895, 0.60310716,\n",
       "       0.41257157, 0.37418404, 0.42588209])"
      ]
     },
     "execution_count": 115,
     "metadata": {},
     "output_type": "execute_result"
    },
    {
     "data": {
      "text/plain": [
       "array([[0.1438975 , 0.01393629, 0.22965603, 0.13182222],\n",
       "       [0.58111661, 0.19977565, 0.80412453, 0.71540713],\n",
       "       [0.39757819, 0.30094869, 0.48858405, 0.66286421],\n",
       "       [0.55519804, 0.63397511, 0.1058974 , 0.1403396 ],\n",
       "       [0.80436092, 0.4673816 , 0.78476345, 0.01783678]])"
      ]
     },
     "execution_count": 115,
     "metadata": {},
     "output_type": "execute_result"
    },
    {
     "data": {
      "text/plain": [
       "array([[0.1438975 , 0.01393629, 0.22965603, 0.13182222],\n",
       "       [0.58111661, 0.19977565, 0.80412453, 0.71540713],\n",
       "       [0.39757819, 0.30094869, 0.48858405, 0.66286421],\n",
       "       [0.55519804, 0.63397511, 0.1058974 , 0.1403396 ],\n",
       "       [0.80436092, 0.4673816 , 0.78476345, 0.01783678]])"
      ]
     },
     "execution_count": 115,
     "metadata": {},
     "output_type": "execute_result"
    },
    {
     "data": {
      "text/plain": [
       "array([[0.50074119, 0.        , 0.        , 0.        , 0.        ,\n",
       "        0.67765867, 0.        , 0.50632993],\n",
       "       [0.69426244, 0.58111661, 0.        , 0.80412453, 0.71540713,\n",
       "        0.738984  , 0.        , 0.        ],\n",
       "       [0.92756255, 0.        , 0.        , 0.        , 0.66286421,\n",
       "        0.95562326, 0.        , 0.92480843],\n",
       "       [0.        , 0.55519804, 0.63397511, 0.        , 0.        ,\n",
       "        0.        , 0.96623191, 0.59604255],\n",
       "       [0.93302322, 0.80436092, 0.        , 0.78476345, 0.        ,\n",
       "        0.        , 0.82942861, 0.79681709]])"
      ]
     },
     "execution_count": 115,
     "metadata": {},
     "output_type": "execute_result"
    }
   ],
   "source": [
    "a = rng.random((5, 8))\n",
    "a**3\n",
    "(a > 0.5)\n",
    "np.nonzero(a > 0.5)\n",
    "v = rng.random((8))\n",
    "v\n",
    "a[:,np.nonzero(v > 0.5)[0]]\n",
    "a[:, v.T > 0.5]\n",
    "a[a < 0.5]=0\n",
    "a * (a > 0.5)\n",
    "a[:] = 3"
   ]
  },
  {
   "cell_type": "code",
   "execution_count": 116,
   "id": "78919c66",
   "metadata": {},
   "outputs": [
    {
     "data": {
      "text/plain": [
       "array([[0.65193103, 0.86749063],\n",
       "       [0.45389688, 0.24783956],\n",
       "       [0.23666236, 0.74601428]])"
      ]
     },
     "execution_count": 116,
     "metadata": {},
     "output_type": "execute_result"
    },
    {
     "data": {
      "text/plain": [
       "array([[0.65193103, 0.86749063],\n",
       "       [0.45389688, 0.24783956],\n",
       "       [0.23666236, 0.74601428]])"
      ]
     },
     "execution_count": 116,
     "metadata": {},
     "output_type": "execute_result"
    },
    {
     "data": {
      "text/plain": [
       "array([0.45389688, 0.24783956])"
      ]
     },
     "execution_count": 116,
     "metadata": {},
     "output_type": "execute_result"
    },
    {
     "data": {
      "text/plain": [
       "array([0.65193103, 0.86749063, 0.45389688, 0.24783956, 0.23666236,\n",
       "       0.74601428])"
      ]
     },
     "execution_count": 116,
     "metadata": {},
     "output_type": "execute_result"
    }
   ],
   "source": [
    "x = rng.random((3, 2))\n",
    "x\n",
    "\n",
    "y = x.copy()\n",
    "y\n",
    "y = x[1, :].copy()\n",
    "y\n",
    "y = x.flatten()\n",
    "y"
   ]
  },
  {
   "cell_type": "code",
   "execution_count": 117,
   "id": "17cbe086",
   "metadata": {},
   "outputs": [
    {
     "data": {
      "text/plain": [
       "array([ 1.,  2.,  3.,  4.,  5.,  6.,  7.,  8.,  9., 10.])"
      ]
     },
     "execution_count": 117,
     "metadata": {},
     "output_type": "execute_result"
    },
    {
     "data": {
      "text/plain": [
       "array([0., 1., 2., 3., 4., 5., 6., 7., 8., 9.])"
      ]
     },
     "execution_count": 117,
     "metadata": {},
     "output_type": "execute_result"
    },
    {
     "data": {
      "text/plain": [
       "array([[ 1.],\n",
       "       [ 2.],\n",
       "       [ 3.],\n",
       "       [ 4.],\n",
       "       [ 5.],\n",
       "       [ 6.],\n",
       "       [ 7.],\n",
       "       [ 8.],\n",
       "       [ 9.],\n",
       "       [10.]])"
      ]
     },
     "execution_count": 117,
     "metadata": {},
     "output_type": "execute_result"
    },
    {
     "data": {
      "text/plain": [
       "array([[0., 0., 0., 0.],\n",
       "       [0., 0., 0., 0.],\n",
       "       [0., 0., 0., 0.]])"
      ]
     },
     "execution_count": 117,
     "metadata": {},
     "output_type": "execute_result"
    },
    {
     "data": {
      "text/plain": [
       "array([[[0., 0., 0., 0., 0.],\n",
       "        [0., 0., 0., 0., 0.],\n",
       "        [0., 0., 0., 0., 0.],\n",
       "        [0., 0., 0., 0., 0.]],\n",
       "\n",
       "       [[0., 0., 0., 0., 0.],\n",
       "        [0., 0., 0., 0., 0.],\n",
       "        [0., 0., 0., 0., 0.],\n",
       "        [0., 0., 0., 0., 0.]],\n",
       "\n",
       "       [[0., 0., 0., 0., 0.],\n",
       "        [0., 0., 0., 0., 0.],\n",
       "        [0., 0., 0., 0., 0.],\n",
       "        [0., 0., 0., 0., 0.]]])"
      ]
     },
     "execution_count": 117,
     "metadata": {},
     "output_type": "execute_result"
    },
    {
     "data": {
      "text/plain": [
       "array([[1., 1., 1., 1.],\n",
       "       [1., 1., 1., 1.],\n",
       "       [1., 1., 1., 1.]])"
      ]
     },
     "execution_count": 117,
     "metadata": {},
     "output_type": "execute_result"
    },
    {
     "data": {
      "text/plain": [
       "array([[1., 0., 0.],\n",
       "       [0., 1., 0.],\n",
       "       [0., 0., 1.]])"
      ]
     },
     "execution_count": 117,
     "metadata": {},
     "output_type": "execute_result"
    }
   ],
   "source": [
    "np.arange(1., 11.)\n",
    "np.arange(10.)\n",
    "np.arange(1.,11.)[:, np.newaxis]\n",
    "np.zeros((3, 4))\n",
    "np.zeros((3, 4, 5))\n",
    "np.ones((3, 4))\n",
    "np.eye(3)"
   ]
  },
  {
   "cell_type": "code",
   "execution_count": 118,
   "id": "32de319f",
   "metadata": {},
   "outputs": [
    {
     "data": {
      "text/plain": [
       "array([8, 8])"
      ]
     },
     "execution_count": 118,
     "metadata": {},
     "output_type": "execute_result"
    },
    {
     "data": {
      "text/plain": [
       "array([5, 2, 9])"
      ]
     },
     "execution_count": 118,
     "metadata": {},
     "output_type": "execute_result"
    },
    {
     "data": {
      "text/plain": [
       "array([[0.1536134 , 0.11549006, 0.02114802, 0.05539541],\n",
       "       [0.17464147, 0.05338193, 0.59114382, 0.68071453],\n",
       "       [0.39363046, 0.3179911 , 0.50452624, 0.87500494]])"
      ]
     },
     "execution_count": 118,
     "metadata": {},
     "output_type": "execute_result"
    },
    {
     "data": {
      "text/plain": [
       "array([1.        , 1.66666667, 2.33333333, 3.        ])"
      ]
     },
     "execution_count": 118,
     "metadata": {},
     "output_type": "execute_result"
    },
    {
     "data": {
      "text/plain": [
       "array([[[0., 0., 0., 0., 0., 0.],\n",
       "        [1., 1., 1., 1., 1., 1.],\n",
       "        [2., 2., 2., 2., 2., 2.],\n",
       "        [3., 3., 3., 3., 3., 3.],\n",
       "        [4., 4., 4., 4., 4., 4.],\n",
       "        [5., 5., 5., 5., 5., 5.],\n",
       "        [6., 6., 6., 6., 6., 6.],\n",
       "        [7., 7., 7., 7., 7., 7.],\n",
       "        [8., 8., 8., 8., 8., 8.]],\n",
       "\n",
       "       [[0., 1., 2., 3., 4., 5.],\n",
       "        [0., 1., 2., 3., 4., 5.],\n",
       "        [0., 1., 2., 3., 4., 5.],\n",
       "        [0., 1., 2., 3., 4., 5.],\n",
       "        [0., 1., 2., 3., 4., 5.],\n",
       "        [0., 1., 2., 3., 4., 5.],\n",
       "        [0., 1., 2., 3., 4., 5.],\n",
       "        [0., 1., 2., 3., 4., 5.],\n",
       "        [0., 1., 2., 3., 4., 5.]]])"
      ]
     },
     "execution_count": 118,
     "metadata": {},
     "output_type": "execute_result"
    },
    {
     "data": {
      "text/plain": [
       "(array([[1, 2, 4],\n",
       "        [1, 2, 4],\n",
       "        [1, 2, 4]]),\n",
       " array([[2, 2, 2],\n",
       "        [4, 4, 4],\n",
       "        [5, 5, 5]]))"
      ]
     },
     "execution_count": 118,
     "metadata": {},
     "output_type": "execute_result"
    }
   ],
   "source": [
    "a = rng.integers(low=1, high=10, size=(2, 3))\n",
    "v = rng.integers(low=1, high=10, size=(3, 3))\n",
    "b = rng.integers(low=1, high=10, size=(2, 3))\n",
    "\n",
    "np.diag(a)\n",
    "np.diag(v, 0)\n",
    "rng.random((3, 4))\n",
    "np.linspace(1,3,4)\n",
    "np.mgrid[0:9.,0:6.]\n",
    "np.meshgrid([1,2,4],[2,4,5])"
   ]
  },
  {
   "cell_type": "code",
   "execution_count": 119,
   "id": "b64acf93",
   "metadata": {},
   "outputs": [
    {
     "data": {
      "text/plain": [
       "array([[8, 8, 9, 8, 8, 9, 8, 8, 9],\n",
       "       [1, 8, 1, 1, 8, 1, 1, 8, 1],\n",
       "       [8, 8, 9, 8, 8, 9, 8, 8, 9],\n",
       "       [1, 8, 1, 1, 8, 1, 1, 8, 1]])"
      ]
     },
     "execution_count": 119,
     "metadata": {},
     "output_type": "execute_result"
    },
    {
     "data": {
      "text/plain": [
       "array([[8, 8, 9, 2, 9, 9],\n",
       "       [1, 8, 1, 6, 2, 2]])"
      ]
     },
     "execution_count": 119,
     "metadata": {},
     "output_type": "execute_result"
    },
    {
     "data": {
      "text/plain": [
       "array([[8, 8, 9],\n",
       "       [1, 8, 1],\n",
       "       [2, 9, 9],\n",
       "       [6, 2, 2]])"
      ]
     },
     "execution_count": 119,
     "metadata": {},
     "output_type": "execute_result"
    },
    {
     "data": {
      "text/plain": [
       "np.int64(9)"
      ]
     },
     "execution_count": 119,
     "metadata": {},
     "output_type": "execute_result"
    },
    {
     "data": {
      "text/plain": [
       "array([8, 8, 9])"
      ]
     },
     "execution_count": 119,
     "metadata": {},
     "output_type": "execute_result"
    },
    {
     "data": {
      "text/plain": [
       "array([9, 8])"
      ]
     },
     "execution_count": 119,
     "metadata": {},
     "output_type": "execute_result"
    },
    {
     "data": {
      "text/plain": [
       "array([[8, 9, 9],\n",
       "       [6, 8, 2]])"
      ]
     },
     "execution_count": 119,
     "metadata": {},
     "output_type": "execute_result"
    },
    {
     "data": {
      "text/plain": [
       "array([[ 7.        ,  7.34846923, 10.19803903],\n",
       "       [ 6.164414  ,  6.32455532,  9.79795897],\n",
       "       [ 6.92820323,  7.14142843, 10.81665383]])"
      ]
     },
     "execution_count": 119,
     "metadata": {},
     "output_type": "execute_result"
    },
    {
     "data": {
      "text/plain": [
       "array([[ True,  True,  True],\n",
       "       [ True,  True,  True]])"
      ]
     },
     "execution_count": 119,
     "metadata": {},
     "output_type": "execute_result"
    },
    {
     "data": {
      "text/plain": [
       "array([[ True,  True,  True],\n",
       "       [ True,  True,  True]])"
      ]
     },
     "execution_count": 119,
     "metadata": {},
     "output_type": "execute_result"
    },
    {
     "data": {
      "text/plain": [
       "array([[0, 8, 9],\n",
       "       [0, 0, 0]])"
      ]
     },
     "execution_count": 119,
     "metadata": {},
     "output_type": "execute_result"
    },
    {
     "data": {
      "text/plain": [
       "array([[10,  9,  9],\n",
       "       [ 7, 10,  3]])"
      ]
     },
     "execution_count": 119,
     "metadata": {},
     "output_type": "execute_result"
    }
   ],
   "source": [
    "m = 2\n",
    "n = 3\n",
    "np.tile(a, (m, n))\n",
    "np.concatenate((a,b),1)\n",
    "np.concatenate((a,b))\n",
    "a.max()\n",
    "a.max(0)\n",
    "a.max(1)\n",
    "np.maximum(a, b)\n",
    "np.sqrt(v @ v) \n",
    "np.logical_and(a,b)\n",
    "np.logical_or(a,b)\n",
    "a & b\n",
    "a | b"
   ]
  },
  {
   "cell_type": "code",
   "execution_count": 120,
   "id": "ce652b43",
   "metadata": {},
   "outputs": [
    {
     "data": {
      "text/plain": [
       "array([[0.85113163, 0.04347506, 0.18149841],\n",
       "       [0.23674487, 0.24938758, 0.57123265],\n",
       "       [0.41626243, 0.04925412, 0.37361414]])"
      ]
     },
     "execution_count": 120,
     "metadata": {},
     "output_type": "execute_result"
    },
    {
     "data": {
      "text/plain": [
       "array([[ 1.44134299, -0.16185075, -0.45273187],\n",
       "       [ 3.30935764,  5.37283562, -9.822386  ],\n",
       "       [-2.04215084, -0.52798298,  4.47586981]])"
      ]
     },
     "execution_count": 120,
     "metadata": {},
     "output_type": "execute_result"
    },
    {
     "data": {
      "text/plain": [
       "array([[ 1.44134299, -0.16185075, -0.45273187],\n",
       "       [ 3.30935764,  5.37283562, -9.822386  ],\n",
       "       [-2.04215084, -0.52798298,  4.47586981]])"
      ]
     },
     "execution_count": 120,
     "metadata": {},
     "output_type": "execute_result"
    },
    {
     "data": {
      "text/plain": [
       "np.int64(3)"
      ]
     },
     "execution_count": 120,
     "metadata": {},
     "output_type": "execute_result"
    }
   ],
   "source": [
    "a = rng.random((3, 3))\n",
    "a\n",
    "np.linalg.inv(a)\n",
    "np.linalg.pinv(a)\n",
    "np.linalg.matrix_rank(a)"
   ]
  },
  {
   "cell_type": "code",
   "execution_count": 121,
   "id": "28195e2f",
   "metadata": {},
   "outputs": [
    {
     "data": {
      "text/plain": [
       "array([ 0.36111872, -5.90699939,  2.60718843])"
      ]
     },
     "execution_count": 121,
     "metadata": {},
     "output_type": "execute_result"
    }
   ],
   "source": [
    "\n",
    "b = rng.random(3)\n",
    "np.linalg.solve(a, b)"
   ]
  },
  {
   "cell_type": "code",
   "execution_count": 122,
   "id": "3441ce89",
   "metadata": {},
   "outputs": [
    {
     "data": {
      "text/plain": [
       "array([[-0.72602082,  0.61335775, -0.31094378],\n",
       "       [-0.47966363, -0.77569476, -0.41014685],\n",
       "       [-0.49276421, -0.14862673,  0.85737596]])"
      ]
     },
     "execution_count": 122,
     "metadata": {},
     "output_type": "execute_result"
    },
    {
     "data": {
      "text/plain": [
       "array([1.12070855, 0.50674741, 0.07945539])"
      ]
     },
     "execution_count": 122,
     "metadata": {},
     "output_type": "execute_result"
    },
    {
     "data": {
      "text/plain": [
       "array([[-0.83573594,  0.54571311, -0.06117712],\n",
       "       [-0.15655865, -0.34357028, -0.92598534],\n",
       "       [-0.52634097, -0.76430143,  0.37257014]])"
      ]
     },
     "execution_count": 122,
     "metadata": {},
     "output_type": "execute_result"
    }
   ],
   "source": [
    "U, S, Vh = np.linalg.svd(a)\n",
    "V = Vh.T\n",
    "U\n",
    "S\n",
    "V"
   ]
  },
  {
   "cell_type": "code",
   "execution_count": 123,
   "id": "c35f76dd",
   "metadata": {},
   "outputs": [
    {
     "data": {
      "text/plain": [
       "array([[0.93158786, 0.        , 0.        ],\n",
       "       [1.0473875 , 1.17853279, 0.        ],\n",
       "       [0.88692307, 0.9168794 , 0.19056532]])"
      ]
     },
     "execution_count": 123,
     "metadata": {},
     "output_type": "execute_result"
    },
    {
     "data": {
      "text/plain": [
       "array([4.56766   , 0.42734589, 0.02242567])"
      ]
     },
     "execution_count": 123,
     "metadata": {},
     "output_type": "execute_result"
    },
    {
     "data": {
      "text/plain": [
       "array([[ 0.32658499,  0.94374724, -0.05180152],\n",
       "       [ 0.73120837, -0.28700328, -0.6188404 ],\n",
       "       [ 0.59889612, -0.16422628,  0.78380684]])"
      ]
     },
     "execution_count": 123,
     "metadata": {},
     "output_type": "execute_result"
    },
    {
     "data": {
      "text/plain": [
       "array([-0.42241203+0.j        ,  1.43437608+0.33566983j,\n",
       "        1.43437608-0.33566983j])"
      ]
     },
     "execution_count": 123,
     "metadata": {},
     "output_type": "execute_result"
    },
    {
     "data": {
      "text/plain": [
       "array([ 2.60010523, -0.12805316, -0.12805316])"
      ]
     },
     "execution_count": 123,
     "metadata": {},
     "output_type": "execute_result"
    }
   ],
   "source": [
    "from scipy import io, integrate, linalg, signal\n",
    "from scipy.sparse.linalg import cg, eigs\n",
    "\n",
    "M = rng.random((3, 3))\n",
    "a = M @ M.T\n",
    "np.linalg.cholesky(a)\n",
    "\n",
    "D, V = np.linalg.eig(a)\n",
    "D\n",
    "V\n",
    "\n",
    "b = rng.random((3, 3))\n",
    "D, V = linalg.eig(a, b)\n",
    "D\n",
    "\n",
    "a = rng.random((5, 5))\n",
    "D, V = eigs(a, k=3)\n",
    "D.real"
   ]
  },
  {
   "cell_type": "code",
   "execution_count": 124,
   "id": "7a11d7ce",
   "metadata": {},
   "outputs": [
    {
     "data": {
      "text/plain": [
       "array([[-0.09817985,  0.45063443,  0.51618506],\n",
       "       [-0.53935749, -0.25543175, -0.60640674],\n",
       "       [-0.10212264,  0.73416785, -0.42492423],\n",
       "       [-0.44122907,  0.38320224,  0.04218939],\n",
       "       [-0.70309465, -0.21409539,  0.4283495 ]])"
      ]
     },
     "execution_count": 124,
     "metadata": {},
     "output_type": "execute_result"
    },
    {
     "data": {
      "text/plain": [
       "array([[-1.34551878, -0.72728413, -1.36163803],\n",
       "       [ 0.        ,  1.20491257,  0.57012535],\n",
       "       [ 0.        ,  0.        , -0.57248419]])"
      ]
     },
     "execution_count": 124,
     "metadata": {},
     "output_type": "execute_result"
    },
    {
     "data": {
      "text/plain": [
       "array([[0., 1., 0.],\n",
       "       [1., 0., 0.],\n",
       "       [0., 0., 1.]])"
      ]
     },
     "execution_count": 124,
     "metadata": {},
     "output_type": "execute_result"
    },
    {
     "data": {
      "text/plain": [
       "array([[1.        , 0.        , 0.        ],\n",
       "       [0.16824337, 1.        , 0.        ],\n",
       "       [0.92509286, 0.45083847, 1.        ]])"
      ]
     },
     "execution_count": 124,
     "metadata": {},
     "output_type": "execute_result"
    },
    {
     "data": {
      "text/plain": [
       "array([[0.56495061, 0.57243051, 0.46598515],\n",
       "       [0.        , 0.51985806, 0.09289239],\n",
       "       [0.        , 0.        , 0.32628572]])"
      ]
     },
     "execution_count": 124,
     "metadata": {},
     "output_type": "execute_result"
    }
   ],
   "source": [
    "a = rng.random((5, 3))\n",
    "Q, R = np.linalg.qr(a)\n",
    "Q\n",
    "R\n",
    "\n",
    "a = rng.random((3, 3))\n",
    "P, L, U = linalg.lu(a)\n",
    "P\n",
    "L\n",
    "U"
   ]
  },
  {
   "cell_type": "code",
   "execution_count": null,
   "id": "5fd1f340",
   "metadata": {},
   "outputs": [],
   "source": []
  },
  {
   "cell_type": "code",
   "execution_count": 125,
   "id": "6c8448d8",
   "metadata": {},
   "outputs": [
    {
     "data": {
      "text/plain": [
       "array([[0.60172708, 0.53010238],\n",
       "       [0.53010238, 0.88153706]])"
      ]
     },
     "execution_count": 125,
     "metadata": {},
     "output_type": "execute_result"
    },
    {
     "data": {
      "text/plain": [
       "array([0.11710357, 0.08770901])"
      ]
     },
     "execution_count": 125,
     "metadata": {},
     "output_type": "execute_result"
    },
    {
     "data": {
      "text/plain": [
       "array([ 0.22745848, -0.03728405])"
      ]
     },
     "execution_count": 125,
     "metadata": {},
     "output_type": "execute_result"
    }
   ],
   "source": [
    "M = rng.random((2, 2))\n",
    "a = M @ M.T\n",
    "a\n",
    "b = rng.random(2)\n",
    "b\n",
    "x, info = cg(a, b)\n",
    "x"
   ]
  },
  {
   "cell_type": "code",
   "execution_count": 126,
   "id": "4b16f3ef",
   "metadata": {},
   "outputs": [
    {
     "data": {
      "text/plain": [
       "array([-1.42108547e-16,  1.00838420e-01,  2.00648857e-01,  2.98413804e-01,\n",
       "        3.93136612e-01,  4.83851640e-01,  5.69634107e-01,  6.49609514e-01,\n",
       "        7.22962561e-01,  7.88945463e-01,  8.46885564e-01,  8.96192201e-01,\n",
       "        9.36362725e-01,  9.66987623e-01,  9.87754692e-01,  9.98452227e-01,\n",
       "        9.98971172e-01,  9.89306237e-01,  9.69555949e-01,  9.39921651e-01,\n",
       "        9.00705446e-01,  8.52307118e-01,  7.95220057e-01,  7.30026230e-01,\n",
       "        6.57390247e-01,  5.78052585e-01,  4.92822043e-01,  4.02567491e-01,\n",
       "        3.08209017e-01,  2.10708548e-01,  1.11060038e-01,  1.02793412e-02,\n",
       "       -9.06061470e-02, -1.90567963e-01, -2.88587059e-01, -3.83664192e-01,\n",
       "       -4.74830111e-01, -5.61155437e-01, -6.41760138e-01, -7.15822499e-01,\n",
       "       -7.82587503e-01, -8.41374521e-01, -8.91584257e-01, -9.32704856e-01,\n",
       "       -9.64317117e-01, -9.86098774e-01, -9.97827778e-01, -9.99384558e-01,\n",
       "       -9.90753243e-01, -9.72021825e-01, -9.43381258e-01, -9.05123516e-01,\n",
       "       -8.57638611e-01, -8.01410622e-01, -7.37012758e-01, -6.65101515e-01,\n",
       "       -5.86409982e-01, -5.01740369e-01, -4.11955831e-01, -3.17971663e-01,\n",
       "       -2.20745975e-01, -1.21269921e-01, -2.05575963e-02,  8.03642997e-02,\n",
       "        1.80466932e-01,  2.78729819e-01,  3.74151231e-01,  4.65758407e-01,\n",
       "        5.52617471e-01,  6.33842948e-01,  7.08606798e-01,  7.76146848e-01,\n",
       "        8.35774572e-01,  8.86882102e-01,  9.28948429e-01,  9.61544714e-01,\n",
       "        9.84338658e-01,  9.97097891e-01,  9.99692341e-01,  9.92095559e-01,\n",
       "        9.74384989e-01,  9.46741181e-01,  9.09445943e-01,  8.62879479e-01,\n",
       "        8.07516504e-01,  7.43921408e-01,  6.72742504e-01,  5.94705414e-01,\n",
       "        5.10605678e-01,  4.21300641e-01,  3.27700709e-01,  2.30760075e-01,\n",
       "        1.31466989e-01,  3.08336791e-02, -7.01139604e-02, -1.70346832e-01,\n",
       "       -2.68843126e-01, -3.64598734e-01, -4.56637488e-01, -5.44021111e-01])"
      ]
     },
     "execution_count": 126,
     "metadata": {},
     "output_type": "execute_result"
    }
   ],
   "source": [
    "a = np.sin(np.linspace(0, 10, 100))\n",
    "fft_a = np.fft.fft(a)\n",
    "ifft_a = np.fft.ifft(fft_a)\n",
    "ifft_a.real\n"
   ]
  },
  {
   "cell_type": "code",
   "execution_count": 127,
   "id": "c61db92a",
   "metadata": {},
   "outputs": [
    {
     "data": {
      "text/plain": [
       "array([[28, 48, 65, 72, 41],\n",
       "       [92, 77, 20, 67, 73],\n",
       "       [33, 73, 89, 81, 76],\n",
       "       [63, 27, 79, 36, 53],\n",
       "       [31, 31, 15, 96, 14]])"
      ]
     },
     "execution_count": 127,
     "metadata": {},
     "output_type": "execute_result"
    },
    {
     "data": {
      "text/plain": [
       "array([[28, 41, 48, 65, 72],\n",
       "       [20, 67, 73, 77, 92],\n",
       "       [33, 73, 76, 81, 89],\n",
       "       [27, 36, 53, 63, 79],\n",
       "       [14, 15, 31, 31, 96]])"
      ]
     },
     "execution_count": 127,
     "metadata": {},
     "output_type": "execute_result"
    }
   ],
   "source": [
    "\n",
    "a = rng.integers(100, size=(5, 5))\n",
    "a\n",
    "np.sort(a)\n",
    "\n"
   ]
  },
  {
   "cell_type": "code",
   "execution_count": 128,
   "id": "0b7ad3a3",
   "metadata": {},
   "outputs": [
    {
     "data": {
      "text/plain": [
       "array([[ 8, 93, 55, 43, 73],\n",
       "       [38, 12, 72, 17, 55],\n",
       "       [94, 93, 36, 78, 61],\n",
       "       [47, 13, 37, 65, 98],\n",
       "       [ 0, 71, 84, 95, 42]])"
      ]
     },
     "execution_count": 128,
     "metadata": {},
     "output_type": "execute_result"
    },
    {
     "data": {
      "text/plain": [
       "array([[ 0, 12, 36, 17, 42],\n",
       "       [ 8, 13, 37, 43, 55],\n",
       "       [38, 71, 55, 65, 61],\n",
       "       [47, 93, 72, 78, 73],\n",
       "       [94, 93, 84, 95, 98]])"
      ]
     },
     "execution_count": 128,
     "metadata": {},
     "output_type": "execute_result"
    }
   ],
   "source": [
    "a = rng.integers(100, size=(5, 5))\n",
    "a\n",
    "np.sort(a, axis=0)\n"
   ]
  },
  {
   "cell_type": "code",
   "execution_count": 129,
   "id": "37a53f98",
   "metadata": {},
   "outputs": [
    {
     "data": {
      "text/plain": [
       "array([[11, 27, 85, 87, 63],\n",
       "       [12, 12, 47, 58,  3],\n",
       "       [68, 54,  1,  9, 45],\n",
       "       [72, 82, 43, 29, 96],\n",
       "       [45, 31, 44,  1, 30]])"
      ]
     },
     "execution_count": 129,
     "metadata": {},
     "output_type": "execute_result"
    },
    {
     "data": {
      "text/plain": [
       "array([[11, 27, 85, 87, 63],\n",
       "       [12, 12, 47, 58,  3],\n",
       "       [45, 31, 44,  1, 30],\n",
       "       [68, 54,  1,  9, 45],\n",
       "       [72, 82, 43, 29, 96]])"
      ]
     },
     "execution_count": 129,
     "metadata": {},
     "output_type": "execute_result"
    }
   ],
   "source": [
    "a = rng.integers(100, size=(5, 5))\n",
    "a\n",
    "I = np.argsort(a[:, 0])\n",
    "b = a[I, :]\n",
    "b\n"
   ]
  },
  {
   "cell_type": "code",
   "execution_count": 130,
   "id": "e138ce95",
   "metadata": {},
   "outputs": [
    {
     "data": {
      "text/plain": [
       "array([3.05156606, 1.70998096])"
      ]
     },
     "execution_count": 130,
     "metadata": {},
     "output_type": "execute_result"
    },
    {
     "data": {
      "text/plain": [
       "array([ 3.78787879, -0.44962995,  1.27747486,  0.88777221,  1.86622002,\n",
       "        1.81436345,  2.60140956,  2.67065495,  3.37630216,  3.50193187,\n",
       "        4.16834996,  4.32053818,  4.97045009,  5.13056001,  5.78047192,\n",
       "        5.93266014,  6.59907823,  6.72470795,  7.43035515,  7.49960054,\n",
       "        8.28664665,  8.23479008,  9.21323789,  8.82353524, 10.55064005])"
      ]
     },
     "execution_count": 130,
     "metadata": {},
     "output_type": "execute_result"
    }
   ],
   "source": [
    "\n",
    "x_vals = np.linspace(0, 10, 20)\n",
    "y = 3 * x_vals + 2 + rng.normal(size=20)\n",
    "Z = np.vstack([x_vals, np.ones(len(x_vals))]).T\n",
    "coeffs, residuals, rank, s = np.linalg.lstsq(Z, y, rcond=None)\n",
    "coeffs\n",
    "\n",
    "x = np.linspace(0, 10, 100)\n",
    "q = 4\n",
    "num_resampled = int(np.ceil(len(x) / q))\n",
    "signal.resample(x, num_resampled)\n",
    "\n"
   ]
  },
  {
   "cell_type": "code",
   "execution_count": 131,
   "id": "09edf7c4",
   "metadata": {},
   "outputs": [
    {
     "data": {
      "text/plain": [
       "array([1, 0, 8, 6, 9, 8, 9, 2, 2, 8, 2, 0, 6, 8, 9, 9, 1, 7, 8, 6])"
      ]
     },
     "execution_count": 131,
     "metadata": {},
     "output_type": "execute_result"
    },
    {
     "data": {
      "text/plain": [
       "array([0, 1, 2, 6, 7, 8, 9])"
      ]
     },
     "execution_count": 131,
     "metadata": {},
     "output_type": "execute_result"
    },
    {
     "data": {
      "text/plain": [
       "array([[[[0., 0., 0., 0.]],\n",
       "\n",
       "        [[0., 0., 0., 0.]],\n",
       "\n",
       "        [[0., 0., 0., 0.]],\n",
       "\n",
       "        [[0., 0., 0., 0.]],\n",
       "\n",
       "        [[0., 0., 0., 0.]]]])"
      ]
     },
     "execution_count": 131,
     "metadata": {},
     "output_type": "execute_result"
    },
    {
     "data": {
      "text/plain": [
       "array([[0., 0., 0., 0.],\n",
       "       [0., 0., 0., 0.],\n",
       "       [0., 0., 0., 0.],\n",
       "       [0., 0., 0., 0.],\n",
       "       [0., 0., 0., 0.]])"
      ]
     },
     "execution_count": 131,
     "metadata": {},
     "output_type": "execute_result"
    }
   ],
   "source": [
    "a = rng.integers(10, size=20)\n",
    "a\n",
    "np.unique(a)\n",
    "\n",
    "a = np.zeros((1, 5, 1, 4))\n",
    "a\n",
    "a.squeeze()"
   ]
  },
  {
   "cell_type": "markdown",
   "id": "ecfc29ef",
   "metadata": {},
   "source": [
    "### Task3\n"
   ]
  },
  {
   "cell_type": "code",
   "execution_count": 132,
   "id": "a5632acf",
   "metadata": {},
   "outputs": [
    {
     "data": {
      "text/plain": [
       "[<matplotlib.lines.Line2D at 0x22c7bcc3890>]"
      ]
     },
     "execution_count": 132,
     "metadata": {},
     "output_type": "execute_result"
    },
    {
     "data": {
      "text/plain": [
       "(np.float64(0.0), np.float64(6.0), np.float64(0.0), np.float64(20.0))"
      ]
     },
     "execution_count": 132,
     "metadata": {},
     "output_type": "execute_result"
    },
    {
     "data": {
      "image/png": "[encoded data removed]",
      "text/plain": [
       "<Figure size 640x480 with 1 Axes>"
      ]
     },
     "metadata": {},
     "output_type": "display_data"
    }
   ],
   "source": [
    "import matplotlib.pyplot as plt\n",
    "plt.plot([1,2,3,4], [1,2,7,14])\n",
    "plt.axis([0, 6, 0, 20])\n",
    "plt.show()"
   ]
  },
  {
   "cell_type": "markdown",
   "id": "da82432c",
   "metadata": {},
   "source": [
    "### Task4"
   ]
  },
  {
   "cell_type": "code",
   "execution_count": 133,
   "id": "192e7e4b",
   "metadata": {},
   "outputs": [
    {
     "data": {
      "text/plain": [
       "[<matplotlib.lines.Line2D at 0x22c7bd616d0>]"
      ]
     },
     "execution_count": 133,
     "metadata": {},
     "output_type": "execute_result"
    },
    {
     "data": {
      "image/png": "[encoded data removed]",
      "text/plain": [
       "<Figure size 600x600 with 1 Axes>"
      ]
     },
     "metadata": {},
     "output_type": "display_data"
    }
   ],
   "source": [
    "\n",
    "t = np.linspace(0, 2 * np.pi, 1000)\n",
    "\n",
    "x = 16 * np.sin(t)**3\n",
    "y = 13 * np.cos(t) - 5 * np.cos(2*t) - 2 * np.cos(3*t) - np.cos(4*t)\n",
    "\n",
    "fig, ax = plt.subplots(figsize=(6, 6))\n",
    "ax.plot(x, y, color='red', linewidth=2.5)\n",
    "\n",
    "plt.show()"
   ]
  },
  {
   "cell_type": "markdown",
   "id": "b293850c",
   "metadata": {},
   "source": [
    "### Task5\n",
    "\n",
    "https://github.com/TraceOnSnow"
   ]
  },
  {
   "cell_type": "markdown",
   "id": "76604a00",
   "metadata": {},
   "source": [
    "### Task 6\n"
   ]
  }
 ],
 "metadata": {
  "kernelspec": {
   "display_name": "base",
   "language": "python",
   "name": "python3"
  },
  "language_info": {
   "codemirror_mode": {
    "name": "ipython",
    "version": 3
   },
   "file_extension": ".py",
   "mimetype": "text/x-python",
   "name": "python",
   "nbconvert_exporter": "python",
   "pygments_lexer": "ipython3",
   "version": "3.13.5"
  }
 },
 "nbformat": 4,
 "nbformat_minor": 5
}
